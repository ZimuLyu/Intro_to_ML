{
  "nbformat": 4,
  "nbformat_minor": 0,
  "metadata": {
    "anaconda-cloud": {},
    "celltoolbar": "Slideshow",
    "colab": {
      "name": "hm3_Zimu Lyu.ipynb",
      "provenance": [],
      "collapsed_sections": [],
      "include_colab_link": true
    },
    "kernelspec": {
      "display_name": "Python 3",
      "language": "python",
      "name": "python3"
    },
    "language_info": {
      "codemirror_mode": {
        "name": "ipython",
        "version": 3
      },
      "file_extension": ".py",
      "mimetype": "text/x-python",
      "name": "python",
      "nbconvert_exporter": "python",
      "pygments_lexer": "ipython3",
      "version": "3.7.6"
    }
  },
  "cells": [
    {
      "cell_type": "markdown",
      "metadata": {
        "id": "view-in-github",
        "colab_type": "text"
      },
      "source": [
        "<a href=\"https://colab.research.google.com/github/ZimuLyu/Intro_to_ML/blob/master/hm3_Zimu_Lyu.ipynb\" target=\"_parent\"><img src=\"https://colab.research.google.com/assets/colab-badge.svg\" alt=\"Open In Colab\"/></a>"
      ]
    },
    {
      "cell_type": "markdown",
      "metadata": {
        "colab_type": "text",
        "id": "hSXsCkclbiAj"
      },
      "source": [
        "## Introduction to Python Exercises\n",
        "\n",
        "![](https://github.com/rpi-techfundamentals/hm-01-starter/blob/master/notsaved.png?raw=1)\n",
        "\n",
        "**Save your working file in Google drive so that all changes will be saved as you work. MAKE SURE that your final version is saved to GitHub.** \n",
        "\n",
        "Before you turn this in, make sure everything runs as expected. First, restart the kernel (in the menu, select Kernel → Restart) and then run all cells (in the menubar, select Cell → Run All).  You can speak with others regarding the assignment but all work must be your own. \n",
        "\n",
        "\n",
        "### This is a 30 point assignment.\n",
        "\n",
        "**You may find it useful to go through the notebooks from the course materials when doing these exercises.**\n",
        "\n",
        "**If you attempt to fake passing the tests you will receive a 0 on the assignment and it will be considered an ethical violation.**\n"
      ]
    },
    {
      "cell_type": "code",
      "metadata": {
        "colab_type": "code",
        "id": "8TCzCgMRbiAk",
        "colab": {}
      },
      "source": [
        "files = \"https://github.com/rpi-techfundamentals/hm-03-starter/raw/master/files.zip\"\n",
        "!pip install otter-grader && wget $files && unzip -o files.zip"
      ],
      "execution_count": null,
      "outputs": []
    },
    {
      "cell_type": "code",
      "metadata": {
        "colab_type": "code",
        "id": "moTUYN9VbiAm",
        "colab": {}
      },
      "source": [
        "#Run this. It initiates autograding. \n",
        "import otter\n",
        "grader = otter.Notebook()"
      ],
      "execution_count": 2,
      "outputs": []
    },
    {
      "cell_type": "markdown",
      "metadata": {
        "colab_type": "text",
        "id": "mAC6v0SQbiAp"
      },
      "source": [
        "## Exercises - For and If and Functions\n",
        "\n",
        "(1). Create a function `list_step` that accepts 3 variables (`start`, `stop`, `step`).  The function returns a list starting at `start`, ending at `stop`, and with a step of `step`.\n",
        "\n",
        "For example:\n",
        "\n",
        "`list_step(5, 19, 2)`\n",
        "\n",
        "Should return: \n",
        "\n",
        "`[5, 7, 9, 11, 13, 15, 17]`\n"
      ]
    },
    {
      "cell_type": "code",
      "metadata": {
        "colab_type": "code",
        "id": "QM-6RxE3biAp",
        "colab": {
          "base_uri": "https://localhost:8080/",
          "height": 34
        },
        "outputId": "e0e2cb62-5154-494b-f177-dba8f7205ac3"
      },
      "source": [
        "#Answer question 1 here.\n",
        "def list_step(start, stop, step):\n",
        "  nums = []\n",
        "  while start < stop:\n",
        "    nums.append(start)\n",
        "    start += step \n",
        "  return nums\n",
        "list_step(5, 19, 2)"
      ],
      "execution_count": 35,
      "outputs": [
        {
          "output_type": "execute_result",
          "data": {
            "text/plain": [
              "[4, 6, 8, 10, 12, 14, 16, 18]"
            ]
          },
          "metadata": {
            "tags": []
          },
          "execution_count": 35
        }
      ]
    },
    {
      "cell_type": "code",
      "metadata": {
        "colab_type": "code",
        "id": "ZyGkeyIabiAs",
        "colab": {
          "base_uri": "https://localhost:8080/",
          "height": 46
        },
        "outputId": "79a2082b-78c3-413c-b464-c213e6f592cd"
      },
      "source": [
        "list1= list_step(5, 19, 2) #include this code\n",
        "grader.check('q01')"
      ],
      "execution_count": 4,
      "outputs": [
        {
          "output_type": "execute_result",
          "data": {
            "text/html": [
              "\n",
              "    \n",
              "    \n",
              "        <p>All tests passed!</p>\n",
              "    \n",
              "    "
            ],
            "text/plain": [
              "\n",
              "    All tests passed!\n",
              "    "
            ]
          },
          "metadata": {
            "tags": []
          },
          "execution_count": 4
        }
      ]
    },
    {
      "cell_type": "markdown",
      "metadata": {
        "colab_type": "text",
        "id": "2MlJHdBIbiAv"
      },
      "source": [
        "(2). Create a function `list_divisible` that accepts 3 variables (`start`, `stop`, `divisible`).  Use a for loop to create a list of all numbers from `start` to `stop` which are divisible by `divisible`.\n",
        "\n",
        "For example:\n",
        "\n",
        "`list_divisible(1, 50, 7)`\n",
        "\n",
        "Should return: \n",
        "\n",
        "`[7, 14, 21, 28, 35, 42, 49]`"
      ]
    },
    {
      "cell_type": "code",
      "metadata": {
        "colab_type": "code",
        "id": "5_MwSa5lbiAv",
        "colab": {
          "base_uri": "https://localhost:8080/",
          "height": 34
        },
        "outputId": "697854f5-f870-4dd7-e5e7-153a6fb878e0"
      },
      "source": [
        "#Answer question 2 here.\n",
        "def list_divisible(start, stop, divisible):\n",
        "  nums = []\n",
        "  i = start // divisible\n",
        "  j = (stop - 1) // divisible\n",
        "  num = 0\n",
        "  while i < j:\n",
        "    i += 1\n",
        "    num = i * divisible\n",
        "    nums.append(num)\n",
        "  return nums\n",
        "list_divisible(1, 50, 7)"
      ],
      "execution_count": 37,
      "outputs": [
        {
          "output_type": "execute_result",
          "data": {
            "text/plain": [
              "[7, 14, 21, 28, 35, 42, 49]"
            ]
          },
          "metadata": {
            "tags": []
          },
          "execution_count": 37
        }
      ]
    },
    {
      "cell_type": "code",
      "metadata": {
        "colab_type": "code",
        "id": "8jttsZuUbiAy",
        "colab": {
          "base_uri": "https://localhost:8080/",
          "height": 46
        },
        "outputId": "62075139-ba62-49d4-85e3-4ac2b7b3296f"
      },
      "source": [
        "list2= list_divisible(1, 50, 7) #include this code\n",
        "grader.check('q02')"
      ],
      "execution_count": 6,
      "outputs": [
        {
          "output_type": "execute_result",
          "data": {
            "text/html": [
              "\n",
              "    \n",
              "    \n",
              "        <p>All tests passed!</p>\n",
              "    \n",
              "    "
            ],
            "text/plain": [
              "\n",
              "    All tests passed!\n",
              "    "
            ]
          },
          "metadata": {
            "tags": []
          },
          "execution_count": 6
        }
      ]
    },
    {
      "cell_type": "markdown",
      "metadata": {
        "colab_type": "text",
        "id": "Uq-Ez73bbiA0"
      },
      "source": [
        "(3). Create a function `list_divisible_not` that accepts 4 variables (`start`, `stop`, `divisible`, `not_divisible`).  Use a for loop to create a list of all numbers from `start` to `stop` which are divisible by `divisible` but not divisible by `not_divisible`.\n",
        "\n",
        "For example:\n",
        "\n",
        "`list_divisible_not(1, 100, 4, 3)`\n",
        "\n",
        "Should return: \n",
        "\n",
        "`[4, 8, 16, 20, 28, 32, 40, 44, 52, 56, 64, 68, 76, 80, 88, 92]`\n"
      ]
    },
    {
      "cell_type": "code",
      "metadata": {
        "colab_type": "code",
        "id": "v3gDy1YrbiA1",
        "colab": {
          "base_uri": "https://localhost:8080/",
          "height": 34
        },
        "outputId": "2dbae723-9b49-4a6e-82f2-78268a564eec"
      },
      "source": [
        "#Answer question 3 here.\n",
        "import pandas as pd\n",
        "def list_divisible_not(start, stop, divisible, not_divisible):\n",
        "  nums1 = []\n",
        "  nums2 = []\n",
        "  i = start // divisible\n",
        "  j = (stop - 1) // divisible\n",
        "  p = start // not_divisible\n",
        "  q = (stop - 1) // not_divisible\n",
        "  num = 0\n",
        "  while i < j:\n",
        "    i += 1\n",
        "    num = i * divisible\n",
        "    nums1.append(num)\n",
        "  while p < q:\n",
        "    p += 1\n",
        "    num = p * not_divisible\n",
        "    nums2.append(num)\n",
        "  nums = [num1 for num1 in nums1 if (num1 in nums2) == False ]\n",
        "  return nums\n",
        "list_divisible_not(1, 100, 4, 3)"
      ],
      "execution_count": 7,
      "outputs": [
        {
          "output_type": "execute_result",
          "data": {
            "text/plain": [
              "[4, 8, 16, 20, 28, 32, 40, 44, 52, 56, 64, 68, 76, 80, 88, 92]"
            ]
          },
          "metadata": {
            "tags": []
          },
          "execution_count": 7
        }
      ]
    },
    {
      "cell_type": "code",
      "metadata": {
        "colab_type": "code",
        "id": "8SbK9vjgbiA3",
        "colab": {
          "base_uri": "https://localhost:8080/",
          "height": 46
        },
        "outputId": "7f7ee553-743a-4a26-f414-7bc76503402b"
      },
      "source": [
        "list3= list_divisible_not(1, 100, 4, 3) #include this code\n",
        "grader.check('q03')"
      ],
      "execution_count": 8,
      "outputs": [
        {
          "output_type": "execute_result",
          "data": {
            "text/html": [
              "\n",
              "    \n",
              "    \n",
              "        <p>All tests passed!</p>\n",
              "    \n",
              "    "
            ],
            "text/plain": [
              "\n",
              "    All tests passed!\n",
              "    "
            ]
          },
          "metadata": {
            "tags": []
          },
          "execution_count": 8
        }
      ]
    },
    {
      "cell_type": "markdown",
      "metadata": {
        "colab_type": "text",
        "id": "NxikYaAUbiA5"
      },
      "source": [
        "## Exercises-Titanic\n",
        "\n",
        "The following exercises will use the titanic data from Kaggle.  I've included it in the input folder just like Kaggle. "
      ]
    },
    {
      "cell_type": "code",
      "metadata": {
        "colab_type": "code",
        "id": "eXeFgxJ5biA7",
        "colab": {}
      },
      "source": [
        "import numpy as np \n",
        "import pandas as pd \n",
        "\n",
        "# Input data files are available in the \"../input/\" directory.\n",
        "# Let's input them into a Pandas DataFrame\n",
        "train = pd.read_csv(\"./input/train.csv\")\n",
        "test  = pd.read_csv(\"./input/test.csv\")"
      ],
      "execution_count": 9,
      "outputs": []
    },
    {
      "cell_type": "markdown",
      "metadata": {
        "colab_type": "text",
        "id": "djs2sUOWbiA-"
      },
      "source": [
        "(4) What is the key difference between the train and the test?"
      ]
    },
    {
      "cell_type": "code",
      "metadata": {
        "colab_type": "code",
        "id": "9kqVcP-7biA-",
        "colab": {}
      },
      "source": [
        "man4=\"\"\"\n",
        "The train set is used to build and train a model.\n",
        "The test set is used to validate the model and check how many of my predictions are correct. This way I can further improve the model.\n",
        "\"\"\""
      ],
      "execution_count": 10,
      "outputs": []
    },
    {
      "cell_type": "markdown",
      "metadata": {
        "colab_type": "text",
        "id": "anLIL5fTbiBA"
      },
      "source": [
        "(5) Create a new column `family` that is equal to the `SibSp` * `Parch` for both the train and the test dataframes.  DON'T use a `for` loop. \n"
      ]
    },
    {
      "cell_type": "code",
      "metadata": {
        "colab_type": "code",
        "id": "Q7j4F61AbiBB",
        "colab": {}
      },
      "source": [
        "#Answer \n",
        "train['family'] = train['SibSp'] * train['Parch']\n",
        "test['family'] = test['SibSp'] * test['Parch']"
      ],
      "execution_count": 11,
      "outputs": []
    },
    {
      "cell_type": "code",
      "metadata": {
        "colab_type": "code",
        "id": "lrzDBkWUbiBD",
        "colab": {
          "base_uri": "https://localhost:8080/",
          "height": 46
        },
        "outputId": "1b426afe-5e16-43ac-9455-2f43dc0e8484"
      },
      "source": [
        "grader.check('q05')"
      ],
      "execution_count": 12,
      "outputs": [
        {
          "output_type": "execute_result",
          "data": {
            "text/html": [
              "\n",
              "    \n",
              "    \n",
              "        <p>All tests passed!</p>\n",
              "    \n",
              "    "
            ],
            "text/plain": [
              "\n",
              "    All tests passed!\n",
              "    "
            ]
          },
          "metadata": {
            "tags": []
          },
          "execution_count": 12
        }
      ]
    },
    {
      "cell_type": "markdown",
      "metadata": {
        "colab_type": "text",
        "id": "g5jaVVvybiBF"
      },
      "source": [
        "\n",
        "(6). While we can submit our answer to Kaggle to see how it will perform, we can also utilize our training data to assess accuracy. Accuracy is the percentage of predictions made correctly-i.e., the percentage of people in which our prediction regarding their survival is correct. In other words, accuracy = (#correct predictions)/(Total # of predictions). Create a function `generate_accuracy` which accepts two Pandas series objects (`predicted`, `actual`) and returns the accuracy.  \n",
        "\n",
        "For example, when a and b are two different Pandas Series: \n",
        "`generate_accuracy(predicted, actual)`\n",
        "\n",
        "For the sample data below, the data should retun `50.0` (i.e., a percentage).\n",
        "\n"
      ]
    },
    {
      "cell_type": "code",
      "metadata": {
        "colab_type": "code",
        "id": "FvXAq_TjbiBG",
        "colab": {
          "base_uri": "https://localhost:8080/",
          "height": 173
        },
        "outputId": "d47b38b8-8bef-4d03-e92d-4143b46d1c24"
      },
      "source": [
        "#Example DATA\n",
        "import pandas as pd\n",
        "ex = [{'predicted': 1, 'actual': 1},\n",
        "         {'predicted': 1,  'actual': 0},\n",
        "         {'predicted': 0,  'actual': 1},\n",
        "         {'predicted': 0,  'actual': 0} ]\n",
        "\n",
        "df = pd.DataFrame(ex)\n",
        "df"
      ],
      "execution_count": 13,
      "outputs": [
        {
          "output_type": "execute_result",
          "data": {
            "text/html": [
              "<div>\n",
              "<style scoped>\n",
              "    .dataframe tbody tr th:only-of-type {\n",
              "        vertical-align: middle;\n",
              "    }\n",
              "\n",
              "    .dataframe tbody tr th {\n",
              "        vertical-align: top;\n",
              "    }\n",
              "\n",
              "    .dataframe thead th {\n",
              "        text-align: right;\n",
              "    }\n",
              "</style>\n",
              "<table border=\"1\" class=\"dataframe\">\n",
              "  <thead>\n",
              "    <tr style=\"text-align: right;\">\n",
              "      <th></th>\n",
              "      <th>predicted</th>\n",
              "      <th>actual</th>\n",
              "    </tr>\n",
              "  </thead>\n",
              "  <tbody>\n",
              "    <tr>\n",
              "      <th>0</th>\n",
              "      <td>1</td>\n",
              "      <td>1</td>\n",
              "    </tr>\n",
              "    <tr>\n",
              "      <th>1</th>\n",
              "      <td>1</td>\n",
              "      <td>0</td>\n",
              "    </tr>\n",
              "    <tr>\n",
              "      <th>2</th>\n",
              "      <td>0</td>\n",
              "      <td>1</td>\n",
              "    </tr>\n",
              "    <tr>\n",
              "      <th>3</th>\n",
              "      <td>0</td>\n",
              "      <td>0</td>\n",
              "    </tr>\n",
              "  </tbody>\n",
              "</table>\n",
              "</div>"
            ],
            "text/plain": [
              "   predicted  actual\n",
              "0          1       1\n",
              "1          1       0\n",
              "2          0       1\n",
              "3          0       0"
            ]
          },
          "metadata": {
            "tags": []
          },
          "execution_count": 13
        }
      ]
    },
    {
      "cell_type": "code",
      "metadata": {
        "colab_type": "code",
        "id": "ou4dAw_UbiBH",
        "colab": {}
      },
      "source": [
        "#Answer\n",
        "def generate_accuracy(predicted, actual):\n",
        "  correct = (predicted == actual)\n",
        "  accuracy = correct.mean() * 100\n",
        "  return accuracy"
      ],
      "execution_count": 14,
      "outputs": []
    },
    {
      "cell_type": "code",
      "metadata": {
        "colab_type": "code",
        "id": "cD_ea-GcbiBK",
        "colab": {
          "base_uri": "https://localhost:8080/",
          "height": 46
        },
        "outputId": "8f04b559-b373-4640-88f9-2297e6939029"
      },
      "source": [
        "grader.check('q06')"
      ],
      "execution_count": 15,
      "outputs": [
        {
          "output_type": "execute_result",
          "data": {
            "text/html": [
              "\n",
              "    \n",
              "    \n",
              "        <p>All tests passed!</p>\n",
              "    \n",
              "    "
            ],
            "text/plain": [
              "\n",
              "    All tests passed!\n",
              "    "
            ]
          },
          "metadata": {
            "tags": []
          },
          "execution_count": 15
        }
      ]
    },
    {
      "cell_type": "markdown",
      "metadata": {
        "colab_type": "text",
        "id": "L0GTY_EcbiBN"
      },
      "source": [
        "(7) Create a column `PredEveryoneDies` which is equal to 0 for everyone in both training and testing datasets. "
      ]
    },
    {
      "cell_type": "code",
      "metadata": {
        "colab_type": "code",
        "id": "dlWR17fEbiBN",
        "colab": {}
      },
      "source": [
        "#Answer\n",
        "train['PredEveryoneDies'] = 0\n",
        "test['PredEveryoneDies'] = 0"
      ],
      "execution_count": 16,
      "outputs": []
    },
    {
      "cell_type": "code",
      "metadata": {
        "colab_type": "code",
        "id": "v1FV-k1hbiBP",
        "colab": {
          "base_uri": "https://localhost:8080/",
          "height": 46
        },
        "outputId": "5708d4b0-83ca-4cf8-eac6-77fb0d7e277b"
      },
      "source": [
        "grader.check('q07')"
      ],
      "execution_count": 17,
      "outputs": [
        {
          "output_type": "execute_result",
          "data": {
            "text/html": [
              "\n",
              "    \n",
              "    \n",
              "        <p>All tests passed!</p>\n",
              "    \n",
              "    "
            ],
            "text/plain": [
              "\n",
              "    All tests passed!\n",
              "    "
            ]
          },
          "metadata": {
            "tags": []
          },
          "execution_count": 17
        }
      ]
    },
    {
      "cell_type": "markdown",
      "metadata": {
        "colab_type": "text",
        "id": "51O0IxAbbiBS"
      },
      "source": [
        "(8) Find the accuracy of `PredEveryoneDies` in predicting `Survived` using the function `generate_accuracy` that you created earlier and assign it to the `AccEveryoneDies` variable. "
      ]
    },
    {
      "cell_type": "code",
      "metadata": {
        "colab_type": "code",
        "id": "sZ_S3mZ0biBS",
        "colab": {
          "base_uri": "https://localhost:8080/",
          "height": 34
        },
        "outputId": "e8758b53-7ad9-4612-9534-e285b9978fa0"
      },
      "source": [
        "# Answer\n",
        "AccEveryoneDies = generate_accuracy(train['PredEveryoneDies'], train['Survived'])\n",
        "AccEveryoneDies"
      ],
      "execution_count": 18,
      "outputs": [
        {
          "output_type": "execute_result",
          "data": {
            "text/plain": [
              "61.61616161616161"
            ]
          },
          "metadata": {
            "tags": []
          },
          "execution_count": 18
        }
      ]
    },
    {
      "cell_type": "code",
      "metadata": {
        "colab_type": "code",
        "id": "rs1ZieiWbiBZ",
        "colab": {
          "base_uri": "https://localhost:8080/",
          "height": 46
        },
        "outputId": "4e72b857-1fa1-4880-e93d-724a304024a4"
      },
      "source": [
        "grader.check('q08')"
      ],
      "execution_count": 19,
      "outputs": [
        {
          "output_type": "execute_result",
          "data": {
            "text/html": [
              "\n",
              "    \n",
              "    \n",
              "        <p>All tests passed!</p>\n",
              "    \n",
              "    "
            ],
            "text/plain": [
              "\n",
              "    All tests passed!\n",
              "    "
            ]
          },
          "metadata": {
            "tags": []
          },
          "execution_count": 19
        }
      ]
    },
    {
      "cell_type": "markdown",
      "metadata": {
        "colab_type": "text",
        "id": "2VJPRTrCbiBb"
      },
      "source": [
        "(9) In both the training and testing datasets, create the column `PredGender` that is 1 -- if the person is a woman and 0 -- if the person is a man. (This is based on the \"women and children first\" law of shipwrecks).  Then set `AccGender` to the accuracy of the `PredGender` in the Train dataset.\n"
      ]
    },
    {
      "cell_type": "code",
      "metadata": {
        "colab_type": "code",
        "id": "YQPXJQ8bbiBb",
        "colab": {
          "base_uri": "https://localhost:8080/",
          "height": 34
        },
        "outputId": "70633935-8091-4cbf-adef-7a5d39f2791d"
      },
      "source": [
        "#Answer\n",
        "train['PredGender'] = (train['Sex'] == 'female').astype('int')\n",
        "test['PredGender'] = (test['Sex'] == 'female').astype('int')\n",
        "AccGender = generate_accuracy(train['PredGender'], train['Survived'])\n",
        "AccGender"
      ],
      "execution_count": 20,
      "outputs": [
        {
          "output_type": "execute_result",
          "data": {
            "text/plain": [
              "78.67564534231201"
            ]
          },
          "metadata": {
            "tags": []
          },
          "execution_count": 20
        }
      ]
    },
    {
      "cell_type": "code",
      "metadata": {
        "colab_type": "code",
        "id": "LYA7qFwEbiBe",
        "colab": {
          "base_uri": "https://localhost:8080/",
          "height": 46
        },
        "outputId": "3b1ad85b-b6f6-4a71-b6f2-53372ca970e0"
      },
      "source": [
        "grader.check('q09')"
      ],
      "execution_count": 21,
      "outputs": [
        {
          "output_type": "execute_result",
          "data": {
            "text/html": [
              "\n",
              "    \n",
              "    \n",
              "        <p>All tests passed!</p>\n",
              "    \n",
              "    "
            ],
            "text/plain": [
              "\n",
              "    All tests passed!\n",
              "    "
            ]
          },
          "metadata": {
            "tags": []
          },
          "execution_count": 21
        }
      ]
    },
    {
      "cell_type": "markdown",
      "metadata": {
        "colab_type": "text",
        "id": "DJ_IGh2ubiBh"
      },
      "source": [
        "(10). Create a `generate_submission` function that accepts a DataFrame, a target column, and a filename (`df`, `target`, `filename`) and writes out the submission file with just the `passengerID` and the `Survived` columns, where the `Survived` column is equal to the target column.\n",
        "\n",
        "For example:\n",
        "`submitdie = generate_submission(train, 'PredEveryoneDies', 'submiteveryonedies.csv')`\n",
        "\n",
        "Should return a dataframe with just `passengerID` and the `Survived` column.  \n",
        "\n",
        "**Make sure your submission file prediction for Survived is an integer and not at float. If you submit a float it may not work.**\n"
      ]
    },
    {
      "cell_type": "code",
      "metadata": {
        "colab_type": "code",
        "id": "F4vp7SOwbiBi",
        "colab": {}
      },
      "source": [
        "#Answer\n",
        "def generate_submission(df, target, filename):\n",
        "  pred = pd.DataFrame({'PassengerID': df['PassengerId'], 'Survived': df[target]})\n",
        "  pred['Survived'].astype('int')\n",
        "  pred.to_csv(filename, index = False)\n",
        "  return pred"
      ],
      "execution_count": 22,
      "outputs": []
    },
    {
      "cell_type": "code",
      "metadata": {
        "colab_type": "code",
        "id": "fLk5RV8JbiBk",
        "colab": {
          "base_uri": "https://localhost:8080/",
          "height": 46
        },
        "outputId": "a9a03da4-cdfe-4486-86db-852ce9f2e6d2"
      },
      "source": [
        "grader.check('q10')"
      ],
      "execution_count": 23,
      "outputs": [
        {
          "output_type": "execute_result",
          "data": {
            "text/html": [
              "\n",
              "    \n",
              "    \n",
              "        <p>All tests passed!</p>\n",
              "    \n",
              "    "
            ],
            "text/plain": [
              "\n",
              "    All tests passed!\n",
              "    "
            ]
          },
          "metadata": {
            "tags": []
          },
          "execution_count": 23
        }
      ]
    },
    {
      "cell_type": "markdown",
      "metadata": {
        "colab_type": "text",
        "id": "hJd-vOiZbiBm"
      },
      "source": [
        "(11).  To use the [women and children first](https://en.wikipedia.org/wiki/Women_and_children_first) protocol, we will need to use the age field. This has some missing values. We are going to replace null values in the train and test set with the median value for each.  \n",
        "\n",
        "\n",
        "For this particular question: \n",
        "\n",
        "Set the variables `AgeMissingTrain` and `AgeMissingTest` using the count of the number of missing values in the train and test sets, respectively.\n",
        "\n",
        "Set the variable `AgeMedianTrain` and `AgeMedianTest` using the median age of the train and test sets, respectively. "
      ]
    },
    {
      "cell_type": "code",
      "metadata": {
        "colab_type": "code",
        "id": "aFyw0ZeSbiBm",
        "colab": {}
      },
      "source": [
        "#Answer\n",
        "AgeMissingTrain = train['Age'].isnull().sum()\n",
        "AgeMissingTest = test['Age'].isnull().sum()\n",
        "AgeMedianTrain = train['Age'].median()\n",
        "AgeMedianTest= test['Age'].median()"
      ],
      "execution_count": 24,
      "outputs": []
    },
    {
      "cell_type": "code",
      "metadata": {
        "colab_type": "code",
        "id": "bR36brWDbiBo",
        "colab": {
          "base_uri": "https://localhost:8080/",
          "height": 46
        },
        "outputId": "7c783132-1bf1-4626-8787-4405274e84d4"
      },
      "source": [
        "grader.check('q11')"
      ],
      "execution_count": 25,
      "outputs": [
        {
          "output_type": "execute_result",
          "data": {
            "text/html": [
              "\n",
              "    \n",
              "    \n",
              "        <p>All tests passed!</p>\n",
              "    \n",
              "    "
            ],
            "text/plain": [
              "\n",
              "    All tests passed!\n",
              "    "
            ]
          },
          "metadata": {
            "tags": []
          },
          "execution_count": 25
        }
      ]
    },
    {
      "cell_type": "markdown",
      "metadata": {
        "colab_type": "text",
        "id": "o8F0wyrEbiBq"
      },
      "source": [
        "(12) For rows in which the age value is  missing, set the age to the appropriate median value for the train/test set. "
      ]
    },
    {
      "cell_type": "code",
      "metadata": {
        "colab_type": "code",
        "id": "319cK3sNbiBq",
        "colab": {}
      },
      "source": [
        "#Answer\n",
        "train.loc[train['Age'].isnull(), 'Age'] = AgeMedianTrain\n",
        "test.loc[test['Age'].isnull(), 'Age'] = AgeMedianTest"
      ],
      "execution_count": 26,
      "outputs": []
    },
    {
      "cell_type": "code",
      "metadata": {
        "colab_type": "code",
        "id": "VIWAu76wbiBw",
        "colab": {
          "base_uri": "https://localhost:8080/",
          "height": 46
        },
        "outputId": "a961c865-c21d-4e2e-a5a6-cb2dbcf0de50"
      },
      "source": [
        "grader.check('q12')"
      ],
      "execution_count": 27,
      "outputs": [
        {
          "output_type": "execute_result",
          "data": {
            "text/html": [
              "\n",
              "    \n",
              "    \n",
              "        <p>All tests passed!</p>\n",
              "    \n",
              "    "
            ],
            "text/plain": [
              "\n",
              "    All tests passed!\n",
              "    "
            ]
          },
          "metadata": {
            "tags": []
          },
          "execution_count": 27
        }
      ]
    },
    {
      "cell_type": "markdown",
      "metadata": {
        "colab_type": "text",
        "id": "4WYb1qQ6biBy"
      },
      "source": [
        "\n",
        "(13). In our initial calculation of the `PredGender` column, we made our prediction based on whether the individual was male or female.  In accordance to the [women and children first](https://en.wikipedia.org/wiki/Women_and_children_first) protocol, we hypothesize that our model could be improved by including whether the individual was a child in addition to gender. We also have a question, what age to use to determine \"child\"? (People weren't likely to check for IDs.)  We will check 2 ages...<13 and <18 (somewhat arbitrary but have to start somewhere) and see which yields a better accuracy. <br>\n",
        "\n",
        "<br> \n",
        "\n",
        "Specifically, create 2 predictions as follows:\n",
        "\n",
        "`train['PredGenderAge13']` should be the prediction incorporating both Gender (women survive) and Age (Children Age<13 survived while Age>=13 died)  <br>\n",
        "`train['PredGenderAge18']` should be the prediction incorporating both Gender (women survive) and Age (Children Age<18 survived while Age>=18 died)  <br>\n",
        "\n",
        "*The analysis assumes that you have addressed missing values in the earlier step and you should do it for both the train and test dataframes*"
      ]
    },
    {
      "cell_type": "code",
      "metadata": {
        "colab_type": "code",
        "id": "Z_RXLnoXbiBz",
        "colab": {}
      },
      "source": [
        "#Answer\n",
        "for df in (train, test):\n",
        "  df['PredGenderAge13'] = ''\n",
        "  df['PredGenderAge18'] = ''\n",
        "  s = df.columns.get_loc('PredGender')\n",
        "  a = df.columns.get_loc('Age')\n",
        "  ga13 = df.columns.get_loc('PredGenderAge13')\n",
        "  ga18 = df.columns.get_loc('PredGenderAge18')\n",
        "\n",
        "  for i in range(len(df)):\n",
        "    if df.iloc[i, s] == 1 or df.iloc[i, a] < 13:\n",
        "      df.iloc[i, ga13] = 1\n",
        "    else:\n",
        "     df.iloc[i, ga13] = 0\n",
        "  for i in range(len(df)):\n",
        "   if df.iloc[i, s] == 1 or df.iloc[i, a] < 18:\n",
        "     df.iloc[i, ga18] = 1\n",
        "   else:\n",
        "      df.iloc[i, ga18] = 0"
      ],
      "execution_count": 28,
      "outputs": []
    },
    {
      "cell_type": "code",
      "metadata": {
        "colab_type": "code",
        "id": "bg1Fep69biB1",
        "colab": {
          "base_uri": "https://localhost:8080/",
          "height": 46
        },
        "outputId": "0f007f25-a328-4add-aae8-275eb19a437b"
      },
      "source": [
        "grader.check('q13')"
      ],
      "execution_count": 29,
      "outputs": [
        {
          "output_type": "execute_result",
          "data": {
            "text/html": [
              "\n",
              "    \n",
              "    \n",
              "        <p>All tests passed!</p>\n",
              "    \n",
              "    "
            ],
            "text/plain": [
              "\n",
              "    All tests passed!\n",
              "    "
            ]
          },
          "metadata": {
            "tags": []
          },
          "execution_count": 29
        }
      ]
    },
    {
      "cell_type": "markdown",
      "metadata": {
        "colab_type": "text",
        "id": "FYkYiEckbiB3"
      },
      "source": [
        "(14). Calculate the accuracy for your new predictions.  Use `PredGenderAge13` in the training set to calculate `AccGenderAge13` (you can use your function again!) and `PredGenderAge18` to calcuate `AccGenderAge18`. "
      ]
    },
    {
      "cell_type": "code",
      "metadata": {
        "colab_type": "code",
        "id": "udYOXsOxbiB3",
        "colab": {
          "base_uri": "https://localhost:8080/",
          "height": 51
        },
        "outputId": "a71fdfbb-034f-4a64-be9d-385acd1d10b3"
      },
      "source": [
        "#Answer\n",
        "AccGenderAge13 = generate_accuracy(train['PredGenderAge13'], train['Survived'])\n",
        "AccGenderAge18 = generate_accuracy(train['PredGenderAge18'], train['Survived'])\n",
        "print(AccGenderAge13)\n",
        "print(AccGenderAge18)"
      ],
      "execution_count": 30,
      "outputs": [
        {
          "output_type": "stream",
          "text": [
            "79.2368125701459\n",
            "77.32884399551067\n"
          ],
          "name": "stdout"
        }
      ]
    },
    {
      "cell_type": "code",
      "metadata": {
        "colab_type": "code",
        "id": "y5mSZcrTbiB5",
        "colab": {
          "base_uri": "https://localhost:8080/",
          "height": 46
        },
        "outputId": "1b2dbf28-1c79-4464-d4d0-876d0092e870"
      },
      "source": [
        "grader.check('q14')"
      ],
      "execution_count": 31,
      "outputs": [
        {
          "output_type": "execute_result",
          "data": {
            "text/html": [
              "\n",
              "    \n",
              "    \n",
              "        <p>All tests passed!</p>\n",
              "    \n",
              "    "
            ],
            "text/plain": [
              "\n",
              "    All tests passed!\n",
              "    "
            ]
          },
          "metadata": {
            "tags": []
          },
          "execution_count": 31
        }
      ]
    },
    {
      "cell_type": "markdown",
      "metadata": {
        "colab_type": "text",
        "id": "X_ZLsCx5biCA"
      },
      "source": [
        "(15). You should find that the accuracy is higher when using 13 as a designation for a child than 18. What does this tell you about the role of age in surviving a shipwreck? "
      ]
    },
    {
      "cell_type": "code",
      "metadata": {
        "colab_type": "code",
        "id": "8_GkUNYcbiCB",
        "colab": {}
      },
      "source": [
        "\n",
        "man15=\"\"\"\n",
        "The accuracy of the model is reduced after passengers aged 13-17 are added. \n",
        "This shows that in a shipwreck accident, the younger the children are more likely to survive.\n",
        "Children younger than 13 years old are more likely to survive than children 13-17 years old.\n",
        "\"\"\""
      ],
      "execution_count": 32,
      "outputs": []
    },
    {
      "cell_type": "markdown",
      "metadata": {
        "colab_type": "text",
        "id": "5QoaQ9hQbiCD"
      },
      "source": [
        "(16) Create a prediction file for the \"women and children first\" model in using the test dataset and upload it to Kaggle. Go through the process of uploading it to Kaggle. Put your Kaggle username so we can verify your prediction occued. \n",
        "\n",
        "**Make sure your submission file prediction is an integer and not at float. If you submit a float it may not work.**"
      ]
    },
    {
      "cell_type": "code",
      "metadata": {
        "id": "mxIhotkyVBa1",
        "colab_type": "code",
        "colab": {}
      },
      "source": [
        "# Download the csv file\n",
        "# submitdie = generate_submission(test, 'PredGenderAge13', 'submitdie.csv')\n",
        "# from google.colab import files\n",
        "# files.download('submitdie.csv')"
      ],
      "execution_count": 33,
      "outputs": []
    },
    {
      "cell_type": "code",
      "metadata": {
        "colab_type": "code",
        "id": "KFSWJLZYbiCD",
        "colab": {
          "base_uri": "https://localhost:8080/",
          "height": 35
        },
        "outputId": "4330b2da-a43a-4619-c044-91ea6715bfe2"
      },
      "source": [
        "kaggle_username=\"zimulyu\"\n",
        "man15=\"https://www.kaggle.com/\"+kaggle_username+\"/competitions\"\n",
        "#This gives a link to your competition page\n",
        "man15"
      ],
      "execution_count": 34,
      "outputs": [
        {
          "output_type": "execute_result",
          "data": {
            "application/vnd.google.colaboratory.intrinsic+json": {
              "type": "string"
            },
            "text/plain": [
              "'https://www.kaggle.com/zimulyu/competitions'"
            ]
          },
          "metadata": {
            "tags": []
          },
          "execution_count": 34
        }
      ]
    }
  ]
}